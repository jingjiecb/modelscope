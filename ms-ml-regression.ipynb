{
 "cells": [
  {
   "cell_type": "code",
   "execution_count": null,
   "id": "e259ccaa-18cc-488d-b685-a3b524d4a7df",
   "metadata": {
    "ExecutionIndicator": {
     "show": true
    },
    "tags": []
   },
   "outputs": [],
   "source": [
    "print(1)"
   ]
  },
  {
   "cell_type": "code",
   "execution_count": 3,
   "id": "8d704588-f8bc-4552-b181-dadfdc984507",
   "metadata": {
    "execution": {
     "iopub.execute_input": "2023-11-15T15:56:21.067500Z",
     "iopub.status.busy": "2023-11-15T15:56:21.067170Z",
     "iopub.status.idle": "2023-11-15T15:56:21.718598Z",
     "shell.execute_reply": "2023-11-15T15:56:21.718063Z",
     "shell.execute_reply.started": "2023-11-15T15:56:21.067481Z"
    }
   },
   "outputs": [],
   "source": [
    "from sklearn import datasets, linear_model, model_selection"
   ]
  },
  {
   "cell_type": "code",
   "execution_count": 4,
   "id": "6ce8d3ce-114b-4d44-b5b5-f5db42228718",
   "metadata": {
    "execution": {
     "iopub.execute_input": "2023-11-15T15:57:12.648067Z",
     "iopub.status.busy": "2023-11-15T15:57:12.647669Z",
     "iopub.status.idle": "2023-11-15T15:57:13.215854Z",
     "shell.execute_reply": "2023-11-15T15:57:13.215227Z",
     "shell.execute_reply.started": "2023-11-15T15:57:12.648048Z"
    }
   },
   "outputs": [],
   "source": [
    "import matplotlib.pyplot as plt\n",
    "import numpy as np"
   ]
  },
  {
   "cell_type": "code",
   "execution_count": 31,
   "id": "580e5e26-aebe-4be9-8727-be47f943fdbe",
   "metadata": {
    "execution": {
     "iopub.execute_input": "2023-11-15T16:22:18.847398Z",
     "iopub.status.busy": "2023-11-15T16:22:18.846980Z",
     "iopub.status.idle": "2023-11-15T16:22:18.853768Z",
     "shell.execute_reply": "2023-11-15T16:22:18.853129Z",
     "shell.execute_reply.started": "2023-11-15T16:22:18.847368Z"
    },
    "tags": []
   },
   "outputs": [],
   "source": [
    "x, y = datasets.load_diabetes(return_X_y=True)"
   ]
  },
  {
   "cell_type": "code",
   "execution_count": 7,
   "id": "d8693ee4-d138-4e5b-a8e0-df3a25895aad",
   "metadata": {
    "execution": {
     "iopub.execute_input": "2023-11-15T15:58:47.776447Z",
     "iopub.status.busy": "2023-11-15T15:58:47.776113Z",
     "iopub.status.idle": "2023-11-15T15:58:47.779390Z",
     "shell.execute_reply": "2023-11-15T15:58:47.778919Z",
     "shell.execute_reply.started": "2023-11-15T15:58:47.776428Z"
    }
   },
   "outputs": [
    {
     "name": "stdout",
     "output_type": "stream",
     "text": [
      "(442, 10)\n"
     ]
    }
   ],
   "source": [
    "print(x.shape)"
   ]
  },
  {
   "cell_type": "code",
   "execution_count": 9,
   "id": "6ee264bb-769a-4f09-b5c7-21287531b56a",
   "metadata": {
    "ExecutionIndicator": {
     "show": true
    },
    "execution": {
     "iopub.execute_input": "2023-11-15T15:58:57.882494Z",
     "iopub.status.busy": "2023-11-15T15:58:57.882154Z",
     "iopub.status.idle": "2023-11-15T15:58:57.885811Z",
     "shell.execute_reply": "2023-11-15T15:58:57.885269Z",
     "shell.execute_reply.started": "2023-11-15T15:58:57.882475Z"
    },
    "tags": []
   },
   "outputs": [
    {
     "name": "stdout",
     "output_type": "stream",
     "text": [
      "[ 0.03807591  0.05068012  0.06169621  0.02187239 -0.0442235  -0.03482076\n",
      " -0.04340085 -0.00259226  0.01990749 -0.01764613]\n"
     ]
    }
   ],
   "source": [
    "print(x[0])"
   ]
  },
  {
   "cell_type": "code",
   "execution_count": 10,
   "id": "4638fcfb-50f7-493e-a7f8-bfe3e4fa86b5",
   "metadata": {
    "execution": {
     "iopub.execute_input": "2023-11-15T15:59:15.116358Z",
     "iopub.status.busy": "2023-11-15T15:59:15.116020Z",
     "iopub.status.idle": "2023-11-15T15:59:15.119283Z",
     "shell.execute_reply": "2023-11-15T15:59:15.118824Z",
     "shell.execute_reply.started": "2023-11-15T15:59:15.116340Z"
    }
   },
   "outputs": [
    {
     "name": "stdout",
     "output_type": "stream",
     "text": [
      "(442,)\n"
     ]
    }
   ],
   "source": [
    "print(y.shape)"
   ]
  },
  {
   "cell_type": "code",
   "execution_count": 32,
   "id": "9646eea3-6350-4e9e-8a3a-2a9e00ba93ad",
   "metadata": {
    "ExecutionIndicator": {
     "show": true
    },
    "execution": {
     "iopub.execute_input": "2023-11-15T16:22:20.989695Z",
     "iopub.status.busy": "2023-11-15T16:22:20.989349Z",
     "iopub.status.idle": "2023-11-15T16:22:20.992956Z",
     "shell.execute_reply": "2023-11-15T16:22:20.992463Z",
     "shell.execute_reply.started": "2023-11-15T16:22:20.989675Z"
    },
    "tags": []
   },
   "outputs": [
    {
     "name": "stdout",
     "output_type": "stream",
     "text": [
      "True\n"
     ]
    }
   ],
   "source": [
    "print(np.array_equal(x[:, np.newaxis, 2], x[:, 2:3]))\n",
    "x=x[:, np.newaxis, 2]"
   ]
  },
  {
   "cell_type": "code",
   "execution_count": 12,
   "id": "e7b288dd-ec13-493d-8838-0ee11ba50d12",
   "metadata": {
    "execution": {
     "iopub.execute_input": "2023-11-15T16:05:24.974198Z",
     "iopub.status.busy": "2023-11-15T16:05:24.973864Z",
     "iopub.status.idle": "2023-11-15T16:05:24.979209Z",
     "shell.execute_reply": "2023-11-15T16:05:24.978747Z",
     "shell.execute_reply.started": "2023-11-15T16:05:24.974180Z"
    }
   },
   "outputs": [
    {
     "data": {
      "text/plain": [
       "(442, 1)"
      ]
     },
     "execution_count": 12,
     "metadata": {},
     "output_type": "execute_result"
    }
   ],
   "source": [
    "x.shape"
   ]
  },
  {
   "cell_type": "code",
   "execution_count": 14,
   "id": "758ebe24-b327-4848-bf5f-3e9dcd8fb7cd",
   "metadata": {
    "ExecutionIndicator": {
     "show": true
    },
    "execution": {
     "iopub.execute_input": "2023-11-15T16:09:52.255560Z",
     "iopub.status.busy": "2023-11-15T16:09:52.255175Z",
     "iopub.status.idle": "2023-11-15T16:09:52.259343Z",
     "shell.execute_reply": "2023-11-15T16:09:52.258768Z",
     "shell.execute_reply.started": "2023-11-15T16:09:52.255537Z"
    },
    "tags": []
   },
   "outputs": [],
   "source": [
    "x_train, x_test, y_train, y_test = model_selection.train_test_split(x,y,test_size=0.33)"
   ]
  },
  {
   "cell_type": "code",
   "execution_count": 15,
   "id": "fa3a5f1e-feb6-4ef1-8457-82a96566c4bb",
   "metadata": {
    "execution": {
     "iopub.execute_input": "2023-11-15T16:10:15.135866Z",
     "iopub.status.busy": "2023-11-15T16:10:15.135515Z",
     "iopub.status.idle": "2023-11-15T16:10:15.139096Z",
     "shell.execute_reply": "2023-11-15T16:10:15.138651Z",
     "shell.execute_reply.started": "2023-11-15T16:10:15.135846Z"
    }
   },
   "outputs": [
    {
     "data": {
      "text/plain": [
       "(296, 1)"
      ]
     },
     "execution_count": 15,
     "metadata": {},
     "output_type": "execute_result"
    }
   ],
   "source": [
    "x_train.shape"
   ]
  },
  {
   "cell_type": "code",
   "execution_count": 16,
   "id": "75f80c85-182d-4e0a-b190-d2e373e94657",
   "metadata": {
    "execution": {
     "iopub.execute_input": "2023-11-15T16:10:24.581206Z",
     "iopub.status.busy": "2023-11-15T16:10:24.580793Z",
     "iopub.status.idle": "2023-11-15T16:10:24.585557Z",
     "shell.execute_reply": "2023-11-15T16:10:24.584955Z",
     "shell.execute_reply.started": "2023-11-15T16:10:24.581179Z"
    }
   },
   "outputs": [
    {
     "data": {
      "text/plain": [
       "array([[-0.02021751],\n",
       "       [-0.03315126],\n",
       "       [ 0.08864151],\n",
       "       [ 0.02073935],\n",
       "       [-0.02021751],\n",
       "       [-0.03207344],\n",
       "       [ 0.05522933],\n",
       "       [-0.06764124],\n",
       "       [-0.00943939],\n",
       "       [-0.06979687]])"
      ]
     },
     "execution_count": 16,
     "metadata": {},
     "output_type": "execute_result"
    }
   ],
   "source": [
    "x_train[:10]"
   ]
  },
  {
   "cell_type": "code",
   "execution_count": 17,
   "id": "28e01162-0f85-48bc-80e1-c4933c9d581c",
   "metadata": {
    "execution": {
     "iopub.execute_input": "2023-11-15T16:10:48.996110Z",
     "iopub.status.busy": "2023-11-15T16:10:48.995760Z",
     "iopub.status.idle": "2023-11-15T16:10:48.999825Z",
     "shell.execute_reply": "2023-11-15T16:10:48.999368Z",
     "shell.execute_reply.started": "2023-11-15T16:10:48.996087Z"
    }
   },
   "outputs": [
    {
     "data": {
      "text/plain": [
       "array([ 97.,  84., 310., 197., 148., 104.,  68.,  55.,  81., 158.])"
      ]
     },
     "execution_count": 17,
     "metadata": {},
     "output_type": "execute_result"
    }
   ],
   "source": [
    "y_train[:10]"
   ]
  },
  {
   "cell_type": "code",
   "execution_count": 18,
   "id": "49c3d2bc-10bd-46c4-8f1b-8a031ff9cc64",
   "metadata": {
    "execution": {
     "iopub.execute_input": "2023-11-15T16:11:48.174000Z",
     "iopub.status.busy": "2023-11-15T16:11:48.173669Z",
     "iopub.status.idle": "2023-11-15T16:11:48.177793Z",
     "shell.execute_reply": "2023-11-15T16:11:48.177202Z",
     "shell.execute_reply.started": "2023-11-15T16:11:48.173982Z"
    }
   },
   "outputs": [
    {
     "data": {
      "text/plain": [
       "numpy.float64"
      ]
     },
     "execution_count": 18,
     "metadata": {},
     "output_type": "execute_result"
    }
   ],
   "source": [
    "type(y_train[0])"
   ]
  },
  {
   "cell_type": "code",
   "execution_count": 19,
   "id": "4fa34b7e-6a9b-4090-aba8-3513b29fb27c",
   "metadata": {
    "execution": {
     "iopub.execute_input": "2023-11-15T16:12:09.631739Z",
     "iopub.status.busy": "2023-11-15T16:12:09.631272Z",
     "iopub.status.idle": "2023-11-15T16:12:09.635035Z",
     "shell.execute_reply": "2023-11-15T16:12:09.634368Z",
     "shell.execute_reply.started": "2023-11-15T16:12:09.631709Z"
    }
   },
   "outputs": [],
   "source": [
    "model = linear_model.LinearRegression()"
   ]
  },
  {
   "cell_type": "code",
   "execution_count": 20,
   "id": "ed3c96a6-4a4c-44bf-a75b-75879e1403f6",
   "metadata": {
    "execution": {
     "iopub.execute_input": "2023-11-15T16:12:20.379492Z",
     "iopub.status.busy": "2023-11-15T16:12:20.379167Z",
     "iopub.status.idle": "2023-11-15T16:12:20.389438Z",
     "shell.execute_reply": "2023-11-15T16:12:20.389006Z",
     "shell.execute_reply.started": "2023-11-15T16:12:20.379474Z"
    }
   },
   "outputs": [
    {
     "data": {
      "text/html": [
       "<style>#sk-container-id-1 {color: black;}#sk-container-id-1 pre{padding: 0;}#sk-container-id-1 div.sk-toggleable {background-color: white;}#sk-container-id-1 label.sk-toggleable__label {cursor: pointer;display: block;width: 100%;margin-bottom: 0;padding: 0.3em;box-sizing: border-box;text-align: center;}#sk-container-id-1 label.sk-toggleable__label-arrow:before {content: \"▸\";float: left;margin-right: 0.25em;color: #696969;}#sk-container-id-1 label.sk-toggleable__label-arrow:hover:before {color: black;}#sk-container-id-1 div.sk-estimator:hover label.sk-toggleable__label-arrow:before {color: black;}#sk-container-id-1 div.sk-toggleable__content {max-height: 0;max-width: 0;overflow: hidden;text-align: left;background-color: #f0f8ff;}#sk-container-id-1 div.sk-toggleable__content pre {margin: 0.2em;color: black;border-radius: 0.25em;background-color: #f0f8ff;}#sk-container-id-1 input.sk-toggleable__control:checked~div.sk-toggleable__content {max-height: 200px;max-width: 100%;overflow: auto;}#sk-container-id-1 input.sk-toggleable__control:checked~label.sk-toggleable__label-arrow:before {content: \"▾\";}#sk-container-id-1 div.sk-estimator input.sk-toggleable__control:checked~label.sk-toggleable__label {background-color: #d4ebff;}#sk-container-id-1 div.sk-label input.sk-toggleable__control:checked~label.sk-toggleable__label {background-color: #d4ebff;}#sk-container-id-1 input.sk-hidden--visually {border: 0;clip: rect(1px 1px 1px 1px);clip: rect(1px, 1px, 1px, 1px);height: 1px;margin: -1px;overflow: hidden;padding: 0;position: absolute;width: 1px;}#sk-container-id-1 div.sk-estimator {font-family: monospace;background-color: #f0f8ff;border: 1px dotted black;border-radius: 0.25em;box-sizing: border-box;margin-bottom: 0.5em;}#sk-container-id-1 div.sk-estimator:hover {background-color: #d4ebff;}#sk-container-id-1 div.sk-parallel-item::after {content: \"\";width: 100%;border-bottom: 1px solid gray;flex-grow: 1;}#sk-container-id-1 div.sk-label:hover label.sk-toggleable__label {background-color: #d4ebff;}#sk-container-id-1 div.sk-serial::before {content: \"\";position: absolute;border-left: 1px solid gray;box-sizing: border-box;top: 0;bottom: 0;left: 50%;z-index: 0;}#sk-container-id-1 div.sk-serial {display: flex;flex-direction: column;align-items: center;background-color: white;padding-right: 0.2em;padding-left: 0.2em;position: relative;}#sk-container-id-1 div.sk-item {position: relative;z-index: 1;}#sk-container-id-1 div.sk-parallel {display: flex;align-items: stretch;justify-content: center;background-color: white;position: relative;}#sk-container-id-1 div.sk-item::before, #sk-container-id-1 div.sk-parallel-item::before {content: \"\";position: absolute;border-left: 1px solid gray;box-sizing: border-box;top: 0;bottom: 0;left: 50%;z-index: -1;}#sk-container-id-1 div.sk-parallel-item {display: flex;flex-direction: column;z-index: 1;position: relative;background-color: white;}#sk-container-id-1 div.sk-parallel-item:first-child::after {align-self: flex-end;width: 50%;}#sk-container-id-1 div.sk-parallel-item:last-child::after {align-self: flex-start;width: 50%;}#sk-container-id-1 div.sk-parallel-item:only-child::after {width: 0;}#sk-container-id-1 div.sk-dashed-wrapped {border: 1px dashed gray;margin: 0 0.4em 0.5em 0.4em;box-sizing: border-box;padding-bottom: 0.4em;background-color: white;}#sk-container-id-1 div.sk-label label {font-family: monospace;font-weight: bold;display: inline-block;line-height: 1.2em;}#sk-container-id-1 div.sk-label-container {text-align: center;}#sk-container-id-1 div.sk-container {/* jupyter's `normalize.less` sets `[hidden] { display: none; }` but bootstrap.min.css set `[hidden] { display: none !important; }` so we also need the `!important` here to be able to override the default hidden behavior on the sphinx rendered scikit-learn.org. See: https://github.com/scikit-learn/scikit-learn/issues/21755 */display: inline-block !important;position: relative;}#sk-container-id-1 div.sk-text-repr-fallback {display: none;}</style><div id=\"sk-container-id-1\" class=\"sk-top-container\"><div class=\"sk-text-repr-fallback\"><pre>LinearRegression()</pre><b>In a Jupyter environment, please rerun this cell to show the HTML representation or trust the notebook. <br />On GitHub, the HTML representation is unable to render, please try loading this page with nbviewer.org.</b></div><div class=\"sk-container\" hidden><div class=\"sk-item\"><div class=\"sk-estimator sk-toggleable\"><input class=\"sk-toggleable__control sk-hidden--visually\" id=\"sk-estimator-id-1\" type=\"checkbox\" checked><label for=\"sk-estimator-id-1\" class=\"sk-toggleable__label sk-toggleable__label-arrow\">LinearRegression</label><div class=\"sk-toggleable__content\"><pre>LinearRegression()</pre></div></div></div></div></div>"
      ],
      "text/plain": [
       "LinearRegression()"
      ]
     },
     "execution_count": 20,
     "metadata": {},
     "output_type": "execute_result"
    }
   ],
   "source": [
    "model.fit(x_train, y_train)"
   ]
  },
  {
   "cell_type": "code",
   "execution_count": 21,
   "id": "ce74412f-aba7-48de-95cf-4a41ed860539",
   "metadata": {
    "execution": {
     "iopub.execute_input": "2023-11-15T16:12:39.051504Z",
     "iopub.status.busy": "2023-11-15T16:12:39.051218Z",
     "iopub.status.idle": "2023-11-15T16:12:39.055159Z",
     "shell.execute_reply": "2023-11-15T16:12:39.054432Z",
     "shell.execute_reply.started": "2023-11-15T16:12:39.051483Z"
    }
   },
   "outputs": [],
   "source": [
    "y_pred = model.predict(x_test)"
   ]
  },
  {
   "cell_type": "code",
   "execution_count": 35,
   "id": "3c159762-efbe-41dc-966d-078dfaf8fc48",
   "metadata": {
    "ExecutionIndicator": {
     "show": true
    },
    "execution": {
     "iopub.execute_input": "2023-11-15T16:28:52.546620Z",
     "iopub.status.busy": "2023-11-15T16:28:52.546214Z",
     "iopub.status.idle": "2023-11-15T16:28:52.641569Z",
     "shell.execute_reply": "2023-11-15T16:28:52.641064Z",
     "shell.execute_reply.started": "2023-11-15T16:28:52.546595Z"
    },
    "tags": []
   },
   "outputs": [
    {
     "data": {
      "text/plain": [
       "[<matplotlib.lines.Line2D at 0x7f1639b97460>]"
      ]
     },
     "execution_count": 35,
     "metadata": {},
     "output_type": "execute_result"
    },
    {
     "data": {
      "image/png": "[encoded data removed]",
      "text/plain": [
       "<Figure size 640x480 with 1 Axes>"
      ]
     },
     "metadata": {},
     "output_type": "display_data"
    }
   ],
   "source": [
    "plt.scatter(x_test, y_test, color=\"black\")\n",
    "plt.step(x_test, y_pred, color='blue')"
   ]
  },
  {
   "cell_type": "code",
   "execution_count": null,
   "id": "c9d3b0ff-76a1-4704-8cd2-ca4db33926a5",
   "metadata": {},
   "outputs": [],
   "source": []
  }
 ],
 "metadata": {
  "kernelspec": {
   "display_name": "Python 3 (ipykernel)",
   "language": "python",
   "name": "python3"
  },
  "language_info": {
   "codemirror_mode": {
    "name": "ipython",
    "version": 3
   },
   "file_extension": ".py",
   "mimetype": "text/x-python",
   "name": "python",
   "nbconvert_exporter": "python",
   "pygments_lexer": "ipython3",
   "version": "3.8.16"
  }
 },
 "nbformat": 4,
 "nbformat_minor": 5
}
