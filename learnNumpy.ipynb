{
 "cells": [
  {
   "cell_type": "code",
   "execution_count": 1,
   "id": "9623c0cf-2647-4592-a4b4-7259fac6a98f",
   "metadata": {
    "execution": {
     "iopub.execute_input": "2023-11-15T16:46:55.559714Z",
     "iopub.status.busy": "2023-11-15T16:46:55.559363Z",
     "iopub.status.idle": "2023-11-15T16:46:55.762958Z",
     "shell.execute_reply": "2023-11-15T16:46:55.762416Z",
     "shell.execute_reply.started": "2023-11-15T16:46:55.559694Z"
    }
   },
   "outputs": [],
   "source": [
    "import numpy as np"
   ]
  },
  {
   "cell_type": "code",
   "execution_count": 4,
   "id": "20e0d876-6953-4e08-9528-206965327fd5",
   "metadata": {
    "ExecutionIndicator": {
     "show": true
    },
    "execution": {
     "iopub.execute_input": "2023-11-15T16:47:35.146561Z",
     "iopub.status.busy": "2023-11-15T16:47:35.146226Z",
     "iopub.status.idle": "2023-11-15T16:47:35.149448Z",
     "shell.execute_reply": "2023-11-15T16:47:35.148968Z",
     "shell.execute_reply.started": "2023-11-15T16:47:35.146541Z"
    },
    "tags": []
   },
   "outputs": [],
   "source": [
    "arr = np.array([[1,2,3],[4,5,6], [7,8,9]])"
   ]
  },
  {
   "cell_type": "code",
   "execution_count": 5,
   "id": "4adf3e35-3fa2-4341-b40a-d2439348fa50",
   "metadata": {
    "execution": {
     "iopub.execute_input": "2023-11-15T16:47:41.043872Z",
     "iopub.status.busy": "2023-11-15T16:47:41.043494Z",
     "iopub.status.idle": "2023-11-15T16:47:41.047198Z",
     "shell.execute_reply": "2023-11-15T16:47:41.046678Z",
     "shell.execute_reply.started": "2023-11-15T16:47:41.043851Z"
    }
   },
   "outputs": [
    {
     "data": {
      "text/plain": [
       "numpy.ndarray"
      ]
     },
     "execution_count": 5,
     "metadata": {},
     "output_type": "execute_result"
    }
   ],
   "source": [
    "type(arr)"
   ]
  },
  {
   "cell_type": "code",
   "execution_count": 6,
   "id": "5e4f3941-76fb-4d41-bd7f-3c9baacbfc5b",
   "metadata": {
    "execution": {
     "iopub.execute_input": "2023-11-15T16:47:46.042780Z",
     "iopub.status.busy": "2023-11-15T16:47:46.042404Z",
     "iopub.status.idle": "2023-11-15T16:47:46.046194Z",
     "shell.execute_reply": "2023-11-15T16:47:46.045701Z",
     "shell.execute_reply.started": "2023-11-15T16:47:46.042760Z"
    }
   },
   "outputs": [
    {
     "data": {
      "text/plain": [
       "array([[1, 2, 3],\n",
       "       [4, 5, 6],\n",
       "       [7, 8, 9]])"
      ]
     },
     "execution_count": 6,
     "metadata": {},
     "output_type": "execute_result"
    }
   ],
   "source": [
    "arr"
   ]
  },
  {
   "cell_type": "code",
   "execution_count": 8,
   "id": "d1a5d179-8b1a-47e9-9a1a-251277835ade",
   "metadata": {
    "ExecutionIndicator": {
     "show": true
    },
    "execution": {
     "iopub.execute_input": "2023-11-15T16:51:24.236182Z",
     "iopub.status.busy": "2023-11-15T16:51:24.235842Z",
     "iopub.status.idle": "2023-11-15T16:51:24.239800Z",
     "shell.execute_reply": "2023-11-15T16:51:24.239321Z",
     "shell.execute_reply.started": "2023-11-15T16:51:24.236162Z"
    },
    "tags": []
   },
   "outputs": [
    {
     "data": {
      "text/plain": [
       "array([[0, 0, 0],\n",
       "       [0, 0, 0]])"
      ]
     },
     "execution_count": 8,
     "metadata": {},
     "output_type": "execute_result"
    }
   ],
   "source": [
    "np.full((2, 3), 0)"
   ]
  },
  {
   "cell_type": "code",
   "execution_count": 13,
   "id": "c28cbc80-62f3-4228-8dfe-75514f868ff3",
   "metadata": {
    "ExecutionIndicator": {
     "show": true
    },
    "execution": {
     "iopub.execute_input": "2023-11-15T16:53:11.588684Z",
     "iopub.status.busy": "2023-11-15T16:53:11.588277Z",
     "iopub.status.idle": "2023-11-15T16:53:11.591537Z",
     "shell.execute_reply": "2023-11-15T16:53:11.590992Z",
     "shell.execute_reply.started": "2023-11-15T16:53:11.588662Z"
    },
    "tags": []
   },
   "outputs": [],
   "source": [
    "arr2 = np.full((2,3), False)"
   ]
  },
  {
   "cell_type": "code",
   "execution_count": 14,
   "id": "dc4a8915-e28d-4b05-b704-bb3b4bdc0ca6",
   "metadata": {
    "ExecutionIndicator": {
     "show": true
    },
    "execution": {
     "iopub.execute_input": "2023-11-15T16:53:17.347518Z",
     "iopub.status.busy": "2023-11-15T16:53:17.347160Z",
     "iopub.status.idle": "2023-11-15T16:53:17.351321Z",
     "shell.execute_reply": "2023-11-15T16:53:17.350700Z",
     "shell.execute_reply.started": "2023-11-15T16:53:17.347497Z"
    },
    "tags": []
   },
   "outputs": [
    {
     "name": "stdout",
     "output_type": "stream",
     "text": [
      "False\n",
      "False\n",
      "False\n",
      "False\n",
      "False\n",
      "False\n"
     ]
    }
   ],
   "source": [
    "for i in range(2):\n",
    "    for j in range(3):\n",
    "        print(arr2[i][j])"
   ]
  },
  {
   "cell_type": "code",
   "execution_count": 18,
   "id": "331f2b3f-810a-4950-b857-015b8e6456dd",
   "metadata": {
    "ExecutionIndicator": {
     "show": true
    },
    "execution": {
     "iopub.execute_input": "2023-11-15T16:55:38.576559Z",
     "iopub.status.busy": "2023-11-15T16:55:38.576211Z",
     "iopub.status.idle": "2023-11-15T16:55:38.579544Z",
     "shell.execute_reply": "2023-11-15T16:55:38.579042Z",
     "shell.execute_reply.started": "2023-11-15T16:55:38.576539Z"
    },
    "tags": []
   },
   "outputs": [],
   "source": [
    "arr3 = np.array(list(map(lambda x: x[0], arr2)))"
   ]
  },
  {
   "cell_type": "code",
   "execution_count": 19,
   "id": "634f23cd-7831-4532-afee-5933e2b6a08c",
   "metadata": {
    "execution": {
     "iopub.execute_input": "2023-11-15T16:55:40.411791Z",
     "iopub.status.busy": "2023-11-15T16:55:40.411086Z",
     "iopub.status.idle": "2023-11-15T16:55:40.415418Z",
     "shell.execute_reply": "2023-11-15T16:55:40.414860Z",
     "shell.execute_reply.started": "2023-11-15T16:55:40.411756Z"
    },
    "tags": []
   },
   "outputs": [
    {
     "data": {
      "text/plain": [
       "array([False, False])"
      ]
     },
     "execution_count": 19,
     "metadata": {},
     "output_type": "execute_result"
    }
   ],
   "source": [
    "arr3"
   ]
  },
  {
   "cell_type": "code",
   "execution_count": null,
   "id": "411d80dd-95cf-4e43-8fcc-8ed14d74b3f9",
   "metadata": {},
   "outputs": [],
   "source": []
  }
 ],
 "metadata": {
  "kernelspec": {
   "display_name": "Python 3 (ipykernel)",
   "language": "python",
   "name": "python3"
  },
  "language_info": {
   "codemirror_mode": {
    "name": "ipython",
    "version": 3
   },
   "file_extension": ".py",
   "mimetype": "text/x-python",
   "name": "python",
   "nbconvert_exporter": "python",
   "pygments_lexer": "ipython3",
   "version": "3.8.16"
  }
 },
 "nbformat": 4,
 "nbformat_minor": 5
}
